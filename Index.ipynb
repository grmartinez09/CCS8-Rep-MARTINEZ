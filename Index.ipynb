{
  "nbformat": 4,
  "nbformat_minor": 0,
  "metadata": {
    "colab": {
      "provenance": [],
      "authorship_tag": "ABX9TyOfpDKv+pr6sNcTSwA5UUlg",
      "include_colab_link": true
    },
    "kernelspec": {
      "name": "python3",
      "display_name": "Python 3"
    },
    "language_info": {
      "name": "python"
    }
  },
  "cells": [
    {
      "cell_type": "markdown",
      "metadata": {
        "id": "view-in-github",
        "colab_type": "text"
      },
      "source": [
        "<a href=\"https://colab.research.google.com/github/grmartinez09/CCS8-Rep-MARTINEZ/blob/main/Index.ipynb\" target=\"_parent\"><img src=\"https://colab.research.google.com/assets/colab-badge.svg\" alt=\"Open In Colab\"/></a>"
      ]
    },
    {
      "cell_type": "code",
      "execution_count": null,
      "metadata": {
        "id": "qnLeJZbgRp_E"
      },
      "outputs": [],
      "source": [
        "#Programmed by: MARTINEZ, Gerryle R.\n",
        "#BSCS 1B - CC2 - Lab Activity 1\n",
        "#Sept. 9, 2023\n",
        "\n",
        "lbs = 160\n",
        "kg = lbs/2.205\n",
        "kg = round(kg,2)\n",
        "lbs = str(lbs)\n",
        "kg = str(kg)\n",
        "print(\"Weight in Pounds (lbs): \" + lbs)\n",
        "print(\"Weight in Kilograms (kg): \" + kg)\n",
        "print(\"=========================================\")\n",
        "\n",
        "mi = 32.8\n",
        "km = mi*1.609\n",
        "km = round(km,2)\n",
        "mi = str(mi)\n",
        "km = str(km)\n",
        "print(\"Length in Miles (mi): \" + mi)\n",
        "print(\"Length converted to Kilometers: \" + km)\n",
        "print(\"=========================================\")\n",
        "\n",
        "fahrenheit = 34\n",
        "celsius = (5/9)*(fahrenheit-32)\n",
        "celsius = round(celsius,2)\n",
        "fahrenheit = str(fahrenheit)\n",
        "celsius = str(celsius)\n",
        "print(\"Temperature in Fahrenheit (°f): \"+ fahrenheit)\n",
        "print(\"Temperature converted to Celsius (°C): \"+ celsius)\n",
        "print(\"=========================================\")\n",
        "\n",
        "studentage = [22, 27, 23, 23, 20, 24, 25, 19, 24, 29]\n",
        "studentage = sum(studentage)\n",
        "average = (studentage)/10\n",
        "studentage = [\"22\", \"27\", \"23\", \"23\", \"20\", \"24\", \"25\", \"19\", \"24\", \"29\"]\n",
        "average = str(average)\n",
        "print(\"Age of Student 1: \" + studentage[0])\n",
        "print(\"Age of Student 2: \" + studentage[1])\n",
        "print(\"Age of Student 3: \" + studentage[2])\n",
        "print(\"Age of Student 4: \" + studentage[3])\n",
        "print(\"Age of Student 5: \" + studentage[4])\n",
        "print(\"Age of Student 6: \" + studentage[5])\n",
        "print(\"Age of Student 7: \" + studentage[6])\n",
        "print(\"Age of Student 8: \" + studentage[7])\n",
        "print(\"Age of Student 9: \" + studentage[8])\n",
        "print(\"Age of Student 10: \" + studentage[9])\n",
        "print(\"The average age of the students is: \" + average)\n",
        "print(\"=========================================\")\n",
        "\n",
        "chNames = [\"Lumaine\", \"Scara\", \"Raiden\", \"Barbatos\", \"Kaedehara\"]\n",
        "worldNames = [\"Teyvat\", \"Earth-918\"]\n",
        "weaponNames = [\"Skyward\", \"Widsith\", \"The Catch\"]\n",
        "abilities = [\"elemental resonance\", \"vision holder\", \"elemental reaction\"]\n",
        "\n",
        "print(\"There was once a lost star who was searching for her brother who she separated with. Her name was \" + chNames [0] + \" traveling the world of \" + worldNames[0] + \".\"\n",
        "    \"A world which holds elemental powers where \" + abilities [1] + \"s from all nations help with its peace and safety.\" + chNames [0] + \" somehow has the ability of \" + abilities [0] +\n",
        "    \" where she can connect with any elements on the world of \" + worldNames [0] + \". There she met a loving mother named \" + chNames [2] + \". She was helping her child \" + chNames [1] +\n",
        "    \" farm for Rukkhashava Mushroom for them to feast on for dinner. \" + chNames [0] + \" did not realize that she encountered the nation's archon and casually spoke with her. \" + chNames [0] +\n",
        "    \" soon violated the rules of \" + chNames [2] + \"'s nation and fought with her using her \" + weaponNames [0] + \" sword. To \" + chNames [0] + \"'s little knowledge, she did not know that \" + chNames [1] +\n",
        "    \" also has the ability to fight with his \" + weaponNames [1] + \" wapon. \" + chNames [2] + \" weilded \" + weaponNames [2] + \" and tried to strke on \" + chNames [0] +\n",
        "    \" but the wind was her guardian. The archon \" + chNames [3] + \" has come to her rescue together with his assistant, \" + chNames [-1] + \". While \" + chNames [-1] + \", as a double \" + abilities [1] + \", help buy time for \" + chNames [0] +\n",
        "    \" to escape, \" + chNames [3] + \" told her that her brother was in another world called \" + worldNames [1] + \" where Avengers exists. And with that, \" + chNames [0] +\n",
        "    \" has gathered her strength to leap to another world and find her brother. That's how she ended up on our world with no weapons, abilities and just a laptop to study computer science while looking for her brother. The end.\")"
      ]
    }
  ]
}