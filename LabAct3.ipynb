{
  "nbformat": 4,
  "nbformat_minor": 0,
  "metadata": {
    "colab": {
      "provenance": [],
      "authorship_tag": "ABX9TyOggdEZOADeewuprflr45ri",
      "include_colab_link": true
    },
    "kernelspec": {
      "name": "python3",
      "display_name": "Python 3"
    },
    "language_info": {
      "name": "python"
    }
  },
  "cells": [
    {
      "cell_type": "markdown",
      "metadata": {
        "id": "view-in-github",
        "colab_type": "text"
      },
      "source": [
        "<a href=\"https://colab.research.google.com/github/grmartinez09/CCS8-Rep-MARTINEZ/blob/main/LabAct3.ipynb\" target=\"_parent\"><img src=\"https://colab.research.google.com/assets/colab-badge.svg\" alt=\"Open In Colab\"/></a>"
      ]
    },
    {
      "cell_type": "markdown",
      "source": [
        "inverse_right_triangle"
      ],
      "metadata": {
        "id": "LrE5-CcOSGgP"
      }
    },
    {
      "cell_type": "code",
      "execution_count": null,
      "metadata": {
        "id": "9adDOaSOSBXp"
      },
      "outputs": [],
      "source": [
        "#Assigning var\n",
        "num = [1, 2, 3, 4, 5]\n",
        "x = 0\n",
        "y = 4\n",
        "\n",
        "while x < 5:\n",
        "    for _ in num:\n",
        "        print(_, end=\" \")#prints value and space\n",
        "    print(\"\")#creates new line\n",
        "    del num[y] # removes value from list\n",
        "    y -= 1\n",
        "    x += 1 # stops loop"
      ]
    },
    {
      "cell_type": "markdown",
      "source": [
        "right_triangle"
      ],
      "metadata": {
        "id": "bs13lbjmSQ56"
      }
    },
    {
      "cell_type": "code",
      "source": [
        "#Assigning var\n",
        "num = []\n",
        "x = 0\n",
        "y = 1\n",
        "\n",
        "while x < 5:\n",
        "    num.append(y)\n",
        "    for _ in num:\n",
        "        print(_, end=\" \") #prints value and space\n",
        "    print(\"\") #creates new line\n",
        "    y += 1\n",
        "    x += 1 # stops while loop"
      ],
      "metadata": {
        "id": "Nf1PSzbxSWH6"
      },
      "execution_count": null,
      "outputs": []
    },
    {
      "cell_type": "markdown",
      "source": [
        "summation"
      ],
      "metadata": {
        "id": "qJWIoXZlSYEy"
      }
    },
    {
      "cell_type": "code",
      "source": [
        "# Assigning variables\n",
        "input_num = int(input(\"Input: \"))\n",
        "sum = 0\n",
        "formula_list = []\n",
        "\n",
        "# Formula\n",
        "while len(formula_list) < input_num:\n",
        "    for i in range(1, input_num+1):\n",
        "        formula_list.append(i)\n",
        "print(\"Formula:\", \"+\".join(map(str, formula_list))) #nesting of formula and formula list to print summation solution/expression\n",
        "\n",
        "# Summation\n",
        "for i in range(1, input_num+1):\n",
        "    sum += i #adding values for each number up to input number\n",
        "print(\"Summation:\", sum) #printing sum of all numbers up to input"
      ],
      "metadata": {
        "id": "bRBGo2MLSbTu"
      },
      "execution_count": null,
      "outputs": []
    }
  ]
}